{
  "cells": [
    {
      "cell_type": "code",
      "execution_count": null,
      "metadata": {
        "id": "EEppt5e00-PP"
      },
      "outputs": [],
      "source": [
        "from getpass import getpass\n",
        "import json\n",
        "import requests\n",
        "import pyarrow as pa"
      ]
    },
    {
      "cell_type": "code",
      "execution_count": null,
      "metadata": {
        "id": "PLyEDi4TRZgr"
      },
      "outputs": [],
      "source": [
        "token = getpass()"
      ]
    },
    {
      "cell_type": "code",
      "execution_count": null,
      "metadata": {
        "id": "8hL1ccC2R6u5"
      },
      "outputs": [],
      "source": [
        "base_url = f'https://api.telegram.org/bot{token}'"
      ]
    },
    {
      "cell_type": "code",
      "execution_count": null,
      "metadata": {
        "colab": {
          "base_uri": "https://localhost:8080/"
        },
        "collapsed": true,
        "id": "GOTT9C6lSLWq",
        "outputId": "c69c73fd-9fac-4902-b4de-4689eb96f833"
      },
      "outputs": [
        {
          "name": "stdout",
          "output_type": "stream",
          "text": [
            "https://api.telegram.org/bot7026442065:AAHoEXvzSWXeecHkGVenaDuoIphqOqFxBwk/getMe)\n",
            "{\n",
            "  \"ok\": true,\n",
            "  \"result\": {\n",
            "    \"id\": 7026442065,\n",
            "    \"is_bot\": true,\n",
            "    \"first_name\": \"mark1_bot\",\n",
            "    \"username\": \"mark1_projeto_bot\",\n",
            "    \"can_join_groups\": false,\n",
            "    \"can_read_all_group_messages\": false,\n",
            "    \"supports_inline_queries\": false,\n",
            "    \"can_connect_to_business\": false\n",
            "  }\n",
            "}\n"
          ]
        }
      ],
      "source": [
        "# Usando o método getMe para retornar informações sobre o bot\n",
        " \n",
        "response = requests.get(url = f'{base_url}/getMe')\n",
        "print(f'{base_url}/getMe)')\n",
        "\n",
        "print(json.dumps(json.loads(response.text), indent=2))"
      ]
    },
    {
      "cell_type": "markdown",
      "metadata": {
        "id": "7BbCGqhfTJCn"
      },
      "source": [
        "\n",
        "\n",
        "*   **getUpdates**\n",
        "\n"
      ]
    },
    {
      "cell_type": "markdown",
      "metadata": {
        "id": "8AYzdsguTqs5"
      },
      "source": [
        "O método getUpdates retorna as mensagens captadas pelo bot."
      ]
    },
    {
      "cell_type": "code",
      "execution_count": null,
      "metadata": {
        "colab": {
          "base_uri": "https://localhost:8080/"
        },
        "collapsed": true,
        "id": "r8PUGSGQT0wN",
        "outputId": "fe3368f4-6b4e-4386-ef4a-f520160069cb"
      },
      "outputs": [],
      "source": [
        "# Usando o método getUpdates para retornar as mensagens captadas pelo bot\n",
        "\n",
        "response = requests.get(url=f'{base_url}/getUpdates')\n",
        "\n",
        "print(json.dumps(json.loads(response.text), indent=2))"
      ]
    },
    {
      "cell_type": "code",
      "execution_count": null,
      "metadata": {
        "id": "nZ67zZajZE-w"
      },
      "outputs": [],
      "source": [
        "# Escrevendo um arquivo json para teste\n",
        "\n",
        "dados_telegram = {\n",
        "    \"ok\": True,\n",
        "    \"result\": [\n",
        "        {\n",
        "            \"update_id\": 337697004,\n",
        "            \"message\": {\n",
        "                \"message_id\": 8,\n",
        "                \"from\": {\n",
        "                    \"id\": 1258028528,\n",
        "                    \"is_bot\": False,\n",
        "                    \"first_name\": \"Nicollas\",\n",
        "                    \"last_name\": \"Correia de Souza\",\n",
        "                    \"language_code\": \"en\"\n",
        "                },\n",
        "                \"chat\": {\n",
        "                    \"id\": -1002035588248,\n",
        "                    \"title\": \"Projeto\",\n",
        "                    \"type\": \"supergroup\"\n",
        "                },\n",
        "                \"date\": 1716132654,\n",
        "                \"text\": \"Bom dia.\"\n",
        "            }\n",
        "        },\n",
        "        {\n",
        "            \"update_id\": 337697005,\n",
        "            \"message\": {\n",
        "                \"message_id\": 9,\n",
        "                \"from\": {\n",
        "                    \"id\": 1258028528,\n",
        "                    \"is_bot\": False,\n",
        "                    \"first_name\": \"Nicollas\",\n",
        "                    \"last_name\": \"Correia de Souza\",\n",
        "                    \"language_code\": \"en\"\n",
        "                },\n",
        "                \"chat\": {\n",
        "                    \"id\": -1002035588248,\n",
        "                    \"title\": \"Projeto\",\n",
        "                    \"type\": \"supergroup\"\n",
        "                },\n",
        "                \"date\": 1716132663,\n",
        "                \"text\": \"Primeiro teste do bot.\"\n",
        "            }\n",
        "        },\n",
        "        {\n",
        "            \"update_id\": 337697006,\n",
        "            \"message\": {\n",
        "                \"message_id\": 10,\n",
        "                \"from\": {\n",
        "                    \"id\": 1258028528,\n",
        "                    \"is_bot\": False,\n",
        "                    \"first_name\": \"Nicollas\",\n",
        "                    \"last_name\": \"Correia de Souza\",\n",
        "                    \"language_code\": \"en\"\n",
        "                },\n",
        "                \"chat\": {\n",
        "                    \"id\": -1002035588248,\n",
        "                    \"title\": \"Projeto\",\n",
        "                    \"type\": \"supergroup\"\n",
        "                },\n",
        "                \"date\": 1716133615,\n",
        "                \"text\": \"Teste com uma segunda mensagem.\"\n",
        "            }\n",
        "        }\n",
        "    ]\n",
        "}\n",
        "\n",
        "# Escrevendo o arquivo\n",
        "with open('telegram.json', 'w') as arquivo:\n",
        "    json.dump(dados_telegram, arquivo, indent=2)\n",
        "\n",
        "print(\"Arquivo 'telegram.json' criado com sucesso!\")\n"
      ]
    },
    {
      "cell_type": "code",
      "execution_count": null,
      "metadata": {
        "id": "Af4nxqAIXJle"
      },
      "outputs": [],
      "source": [
        "# Lendo o arquivo json\n",
        "with open('telegram.json', mode='r', encoding='utf8') as fp:\n",
        "    data = json.load(fp)\n",
        "    for item in data[\"result\"]:\n",
        "        if \"message\" in item:\n",
        "            print(item[\"message\"])"
      ]
    },
    {
      "cell_type": "code",
      "execution_count": null,
      "metadata": {
        "colab": {
          "base_uri": "https://localhost:8080/"
        },
        "collapsed": true,
        "id": "HTfzfXPQXQ7b",
        "outputId": "c11e4035-574d-4442-e124-90306cd37d73"
      },
      "outputs": [],
      "source": [
        "print(json.dumps(data, indent=2))"
      ]
    },
    {
      "cell_type": "code",
      "execution_count": null,
      "metadata": {
        "id": "JOj7i4zkX76v"
      },
      "outputs": [],
      "source": [
        "import json\n",
        "from datetime import datetime\n",
        "\n",
        "def parse_data(data, keys):\n",
        "    parsed = {}\n",
        "    for key in keys:\n",
        "        if key in data['message']:\n",
        "            for k, v in data['message'][key].items():\n",
        "                if k in ['id', 'is_bot', 'first_name', 'type']:\n",
        "                    parsed[f\"{key if key == 'chat' else 'user'}_{k}\"] = [v]\n",
        "    return parsed\n",
        "\n",
        "# Lendo o arquivo 'telegram.json'\n",
        "with open('telegram.json', mode='r', encoding='utf8') as fp:\n",
        "    data = json.load(fp)\n",
        "\n",
        "# Obtendo a data e o timestamp atual\n",
        "date = datetime.now().strftime('%Y-%m-%d')\n",
        "timestamp = datetime.now().strftime('%Y-%m-%d %H:%M:%S')\n",
        "\n",
        "# Processando cada mensagem no arquivo\n",
        "for message in data['result']:\n",
        "    parsed_data = parse_data(message, ['from', 'chat'])\n",
        "\n",
        "    # Definindo valores padrão para as chaves\n",
        "    for key in ['message_id', 'date', 'text']:\n",
        "        parsed_data.setdefault(key, [message['message'].get(key)])\n",
        "\n",
        "    # Certificando-se de que 'text' existe mesmo se estiver vazio\n",
        "    parsed_data['text'] = parsed_data.get('text', [None])\n",
        "\n",
        "    # Adicionando informações de contexto\n",
        "    parsed_data['context_date'] = [date]\n",
        "    parsed_data['context_timestamp'] = [timestamp]\n",
        "\n",
        "    # Reorganizando as chaves na ordem desejada\n",
        "    keys_order = ['message_id', 'user_id', 'user_is_bot', 'user_first_name', 'chat_id', 'chat_type', 'date', 'text', 'context_date', 'context_timestamp']\n",
        "    parsed_data = {key: parsed_data[key] for key in keys_order}\n",
        "\n",
        "    print(parsed_data)\n"
      ]
    },
    {
      "cell_type": "code",
      "execution_count": null,
      "metadata": {
        "id": "EXew6cMQYMLj"
      },
      "outputs": [],
      "source": [
        "# Iterando sobre os pares chave-valor em parsed_data['KV']\n",
        "\n",
        "for k, v in parsed_data['KV'].items():\n",
        "    print(f\"{k}: {v}\")"
      ]
    },
    {
      "cell_type": "code",
      "execution_count": null,
      "metadata": {
        "id": "cKVJkErkh-GV"
      },
      "outputs": [],
      "source": [
        "# Crie uma tabela a partir dos dados analisados\n",
        "\n",
        "table = pa.Table.from_dict(mapping=parsed_data)"
      ]
    },
    {
      "cell_type": "code",
      "execution_count": null,
      "metadata": {
        "id": "zpYUf-eZiKYu"
      },
      "outputs": [],
      "source": [
        "table"
      ]
    },
    {
      "cell_type": "code",
      "execution_count": null,
      "metadata": {
        "id": "s0deACF8TDlZ"
      },
      "outputs": [],
      "source": [
        "# Obtendo a URL da API\n",
        "\n",
        "aws_api_gateway_url = gethookurl()"
      ]
    },
    {
      "cell_type": "code",
      "execution_count": null,
      "metadata": {
        "id": "URbKzFbwTVWj"
      },
      "outputs": [],
      "source": [
        "# Enviando uma requisição GET para um endpoint construído a partir da URL base e da URL da API gateway\n",
        "\n",
        "response = requests.get(url=f'{base_url}/setWebhook?url={aws_api_gateway_url}')\n",
        "\n",
        "print(json.dumps(json.loads(response.text), indent=2))"
      ]
    },
    {
      "cell_type": "code",
      "execution_count": null,
      "metadata": {
        "id": "_dnxW-nWTYl8"
      },
      "outputs": [],
      "source": [
        "# Realizando uma requisição GET para obter informações do webhook\n",
        "\n",
        "response = requests.get(url=f'{base_url}/getWebhookInfo')\n",
        "\n",
        "print(json.dumps(json.loads(response.text), indent=2))"
      ]
    }
  ],
  "metadata": {
    "colab": {
      "provenance": []
    },
    "kernelspec": {
      "display_name": "Python 3",
      "name": "python3"
    },
    "language_info": {
      "name": "python"
    }
  },
  "nbformat": 4,
  "nbformat_minor": 0
}
